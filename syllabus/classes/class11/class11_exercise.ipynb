{
 "cells": [
  {
   "cell_type": "markdown",
   "metadata": {},
   "source": [
    "# Class 11: Prompting"
   ]
  },
  {
   "cell_type": "markdown",
   "metadata": {},
   "source": [
    "#### Example from class11.md"
   ]
  },
  {
   "cell_type": "code",
   "execution_count": 2,
   "metadata": {},
   "outputs": [],
   "source": [
    "from transformers import pipeline\n",
    "\n",
    "model_name = \"distilbert-base-uncased\" # a small version of BERT\n",
    "\n",
    "nlp = pipeline(\"fill-mask\", model_name) # create pipeline"
   ]
  },
  {
   "cell_type": "code",
   "execution_count": 3,
   "metadata": {},
   "outputs": [
    {
     "name": "stdout",
     "output_type": "stream",
     "text": [
      "\n",
      "I hate my life. => negative\n",
      "The movie I saw yesterday was great! => positive\n",
      "I love working with NLP => [MASK]\n",
      "\n",
      "[{'sequence': 'i hate my life. = > negative the movie i saw yesterday was great! = > positive i love working with nlp = > positive', 'score': 0.30130624771118164, 'token': 3893, 'token_str': 'positive'}, {'sequence': 'i hate my life. = > negative the movie i saw yesterday was great! = > positive i love working with nlp = > |', 'score': 0.2728317677974701, 'token': 1064, 'token_str': '|'}, {'sequence': 'i hate my life. = > negative the movie i saw yesterday was great! = > positive i love working with nlp = > negative', 'score': 0.12607789039611816, 'token': 4997, 'token_str': 'negative'}, {'sequence': 'i hate my life. = > negative the movie i saw yesterday was great! = > positive i love working with nlp = >.', 'score': 0.03605766221880913, 'token': 1012, 'token_str': '.'}, {'sequence': 'i hate my life. = > negative the movie i saw yesterday was great! = > positive i love working with nlp = >!', 'score': 0.027716828510165215, 'token': 999, 'token_str': '!'}]\n"
     ]
    }
   ],
   "source": [
    "sentence_to_classify = \"I love working with NLP\"\n",
    "\n",
    "prompt = f\"\"\"\n",
    "I hate my life. => negative\n",
    "The movie I saw yesterday was great! => positive\n",
    "{sentence_to_classify} => {nlp.tokenizer.mask_token}\n",
    "\"\"\"\n",
    "\n",
    "print(prompt)\n",
    "print(nlp(prompt))"
   ]
  },
  {
   "cell_type": "markdown",
   "metadata": {},
   "source": [
    "#### Using danish BERT to classify sentiment "
   ]
  },
  {
   "cell_type": "code",
   "execution_count": 4,
   "metadata": {},
   "outputs": [
    {
     "name": "stderr",
     "output_type": "stream",
     "text": [
      "Downloading: 100%|██████████| 671/671 [00:00<00:00, 118kB/s]\n",
      "Downloading: 100%|██████████| 476M/476M [00:45<00:00, 11.0MB/s]\n",
      "Downloading: 100%|██████████| 292/292 [00:00<00:00, 34.4kB/s]\n",
      "Downloading: 100%|██████████| 795k/795k [00:01<00:00, 534kB/s]\n",
      "Downloading: 100%|██████████| 462k/462k [00:00<00:00, 599kB/s]\n",
      "Downloading: 100%|██████████| 1.32M/1.32M [00:01<00:00, 810kB/s] \n",
      "Downloading: 100%|██████████| 239/239 [00:00<00:00, 62.3kB/s]\n"
     ]
    }
   ],
   "source": [
    "model_name = \"flax-community/roberta-base-danish\" # danish BERT\n",
    "\n",
    "nlp = pipeline(\"fill-mask\", model_name) # create pipeline"
   ]
  },
  {
   "cell_type": "code",
   "execution_count": 9,
   "metadata": {},
   "outputs": [
    {
     "name": "stdout",
     "output_type": "stream",
     "text": [
      "\n",
      "Jeg hader mit liv => negativt\n",
      "Den film jeg så i går var fantastisk! => positivt\n",
      "Jeg elsker at arbejde med NLP! => <mask>\n",
      "\n",
      "[{'sequence': '\\nJeg hader mit liv => negativt\\nDen film jeg så i går var fantastisk! => positivt\\nJeg elsker at arbejde med NLP! => negativt\\n', 'score': 0.5325155854225159, 'token': 16221, 'token_str': ' negativt'}, {'sequence': '\\nJeg hader mit liv => negativt\\nDen film jeg så i går var fantastisk! => positivt\\nJeg elsker at arbejde med NLP! => positivt\\n', 'score': 0.4303145706653595, 'token': 8063, 'token_str': ' positivt'}, {'sequence': '\\nJeg hader mit liv => negativt\\nDen film jeg så i går var fantastisk! => positivt\\nJeg elsker at arbejde med NLP! => negativ\\n', 'score': 0.01979273185133934, 'token': 14715, 'token_str': ' negativ'}, {'sequence': '\\nJeg hader mit liv => negativt\\nDen film jeg så i går var fantastisk! => positivt\\nJeg elsker at arbejde med NLP! => positiv\\n', 'score': 0.008472551591694355, 'token': 7406, 'token_str': ' positiv'}, {'sequence': '\\nJeg hader mit liv => negativt\\nDen film jeg så i går var fantastisk! => positivt\\nJeg elsker at arbejde med NLP! => negative\\n', 'score': 0.0024801981635391712, 'token': 13311, 'token_str': ' negative'}]\n"
     ]
    }
   ],
   "source": [
    "sentence_to_classify = \"Jeg elsker at arbejde med NLP!\"\n",
    "\n",
    "prompt = f\"\"\"\n",
    "Jeg hader mit liv => negativt\n",
    "Den film jeg så i går var fantastisk! => positivt\n",
    "{sentence_to_classify} => {nlp.tokenizer.mask_token}\n",
    "\"\"\"\n",
    "\n",
    "print(prompt)\n",
    "print(nlp(prompt))"
   ]
  },
  {
   "cell_type": "code",
   "execution_count": 22,
   "metadata": {},
   "outputs": [
    {
     "name": "stdout",
     "output_type": "stream",
     "text": [
      "Jeg hader mit liv. => negativt \n",
      "Den film jeg så i går var fantastisk! => positivt \n",
      "Dette er en stol. => neutralt \n",
      "I dag er det torsdag => <mask>\n",
      "(' positivt', 0.3677297830581665)\n",
      "(' negativt', 0.1671840101480484)\n",
      "(' neutral', 0.13932685554027557)\n",
      "(' positiv', 0.05338280647993088)\n",
      "(' negativ', 0.03726749122142792)\n"
     ]
    }
   ],
   "source": [
    "sentence_to_classify = \"I dag er det torsdag\"\n",
    "\n",
    "arrow = '=>'\n",
    "\n",
    "sentences = [('Jeg hader mit liv.', 'negativt'),\n",
    "             ('Den film jeg så i går var fantastisk!', 'positivt'),\n",
    "             ('Dette er en stol.', 'neutralt')]\n"
   ]
  },
  {
   "cell_type": "code",
   "execution_count": 57,
   "metadata": {},
   "outputs": [],
   "source": [
    "sentence_to_classify = \"Det er jeg ked af at høre.\"\n",
    "sentence_to_classify = 'Du er sød! :)'\n",
    "\n",
    "arrow = '=>'\n",
    "\n",
    "sentences = [('Det har været en virkelig god dag!.', 'glæde'),\n",
    "             ('Jeg hader dig.', 'vrede'),\n",
    "             ('Dette er en stol.', 'neutralt'),\n",
    "             ('Jeg er meget glad :)', 'glæde'),\n",
    "             ('Det gør mig virkelig sur!', 'vrede')]"
   ]
  },
  {
   "cell_type": "code",
   "execution_count": 58,
   "metadata": {},
   "outputs": [
    {
     "name": "stdout",
     "output_type": "stream",
     "text": [
      "Det har været en virkelig god dag!. => glæde \n",
      "Jeg hader dig. => vrede \n",
      "Dette er en stol. => neutralt \n",
      "Jeg er meget glad :) => glæde \n",
      "Det gør mig virkelig sur! => vrede \n",
      "Du er sød! :) => <mask>\n",
      "(' glæde', 0.4528110921382904)\n",
      "(' smil', 0.11764959990978241)\n",
      "(' vrede', 0.08412950485944748)\n",
      "(' glad', 0.026707587763667107)\n",
      "(' glade', 0.018830718472599983)\n"
     ]
    }
   ],
   "source": [
    "prompt = ''\n",
    "for sent, label in sentences:\n",
    "    prompt += f'{sent} {arrow} {label} \\n'\n",
    "prompt += f'{sentence_to_classify} {arrow} {nlp.tokenizer.mask_token}'\n",
    "\n",
    "print(prompt)\n",
    "print(*[(sent['token_str'], sent['score']) for sent in nlp(prompt)[:5]], sep='\\n')"
   ]
  },
  {
   "cell_type": "code",
   "execution_count": null,
   "metadata": {},
   "outputs": [],
   "source": []
  }
 ],
 "metadata": {
  "interpreter": {
   "hash": "94f20621c34d06f296d998be094ddbe636a1cbce433580f5c6b944e0692a01ca"
  },
  "kernelspec": {
   "display_name": "Python 3.9.1 64-bit ('nlp': venv)",
   "language": "python",
   "name": "python3"
  },
  "language_info": {
   "codemirror_mode": {
    "name": "ipython",
    "version": 3
   },
   "file_extension": ".py",
   "mimetype": "text/x-python",
   "name": "python",
   "nbconvert_exporter": "python",
   "pygments_lexer": "ipython3",
   "version": "3.9.1"
  },
  "orig_nbformat": 4
 },
 "nbformat": 4,
 "nbformat_minor": 2
}
