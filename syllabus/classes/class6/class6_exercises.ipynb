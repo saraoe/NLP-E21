{
 "cells": [
  {
   "cell_type": "markdown",
   "metadata": {},
   "source": [
    "# Class 6 exercises"
   ]
  },
  {
   "cell_type": "code",
   "execution_count": 1,
   "metadata": {},
   "outputs": [],
   "source": [
    "import gensim.downloader as api\n",
    "\n",
    "# Pre-trained vectors based on Wikipedia 2014 + Gigaword, \n",
    "# 5.6B tokens, 400K vocab, \n",
    "# uncased (https://nlp.stanford.edu/projects/glove/).\n",
    "# embedding size 50 (so fairly small, but easy to work with)\n",
    "word_emb = api.load(\"glove-wiki-gigaword-50\")"
   ]
  },
  {
   "cell_type": "code",
   "execution_count": 53,
   "metadata": {},
   "outputs": [],
   "source": [
    "import numpy as np\n",
    "def cosine(a, b):\n",
    "    return np.dot(a, b) / (np.linalg.norm(a) * np.linalg.norm(b))\n"
   ]
  },
  {
   "cell_type": "code",
   "execution_count": 50,
   "metadata": {},
   "outputs": [],
   "source": [
    "def plot_word_embeddings(words, embedding):\n",
    "    \"\"\"Plot the words embedding in 2D using a scatter plot and PCA\n",
    "\n",
    "    Args:\n",
    "        words (List[str]): List of words\n",
    "        embedding: Your word embedding as  gensim keyed vectors object.\n",
    "\n",
    "    Returns:\n",
    "        A matplotlib plot object\n",
    "    \"\"\"\n",
    "    # extract word embedding matrix\n",
    "    X = embedding[words]\n",
    "\n",
    "    # apply a dimensionality reduction method of your choosing e.g. PCA\n",
    "    from sklearn.decomposition import PCA\n",
    "    pca = PCA(n_components=2)\n",
    "    X_pca = pca.fit_transform(X)\n",
    "\n",
    "    import pandas as pd\n",
    "    df = pd.DataFrame(X_pca, index=words, columns=['x', 'y']) # create a dataframe for plotting\n",
    "\n",
    "    # create a plot object\n",
    "    import matplotlib.pyplot as plt\n",
    "    fig = plt.figure()\n",
    "    ax = fig.add_subplot(1, 1, 1)\n",
    "\n",
    "    # add point for the words\n",
    "    ax.scatter(df['x'], df['y'])\n",
    "\n",
    "    # add word label to each point\n",
    "    for word, pos in df.iterrows():\n",
    "            ax.annotate(word, pos)\n",
    "    \n",
    "    return ax"
   ]
  },
  {
   "cell_type": "markdown",
   "metadata": {},
   "source": [
    "### 3.1. Discuss how you could use word embeddings to find pluralis of a word\n",
    "  - apply it to three cases\n",
    "  - plot these, does there seem to be a *plural component*?"
   ]
  },
  {
   "cell_type": "code",
   "execution_count": 12,
   "metadata": {},
   "outputs": [
    {
     "name": "stdout",
     "output_type": "stream",
     "text": [
      "[('horses', 0.6972572803497314)]\n",
      "[('mangoes', 0.8602045774459839)]\n",
      "[('cats', 0.8044424653053284)]\n"
     ]
    }
   ],
   "source": [
    "sim = word_emb.most_similar(positive = [\"horse\", \"oranges\"], negative=[\"orange\"], topn=1)\n",
    "print(sim)\n",
    "sim = word_emb.most_similar(positive = [\"mango\", \"oranges\"], negative=[\"orange\"], topn=1)\n",
    "print(sim)\n",
    "sim = word_emb.most_similar(positive = [\"cat\", \"women\"], negative=[\"woman\"], topn=1)\n",
    "print(sim)"
   ]
  },
  {
   "cell_type": "code",
   "execution_count": 13,
   "metadata": {},
   "outputs": [
    {
     "data": {
      "text/plain": [
       "[]"
      ]
     },
     "execution_count": 13,
     "metadata": {},
     "output_type": "execute_result"
    },
    {
     "data": {
      "image/png": "[encoded data removed]",
      "text/plain": [
       "<Figure size 432x288 with 1 Axes>"
      ]
     },
     "metadata": {
      "needs_background": "light"
     },
     "output_type": "display_data"
    }
   ],
   "source": [
    "words_to_plot = [\"orange\", \"oranges\", \"horse\", \"horses\", \"mango\", \"mangoes\", \"cat\", \"cats\", \"woman\", \"women\"]\n",
    "ax = plot_word_embeddings(words=words_to_plot, embedding=word_emb)\n",
    "ax.plot()"
   ]
  },
  {
   "cell_type": "markdown",
   "metadata": {},
   "source": [
    "### 3.2. Discuss how you would find the antonym of a word\n",
    "  - apply it to three cases\n",
    "  - plot these, does there seem to be a *antonym component*?"
   ]
  },
  {
   "cell_type": "code",
   "execution_count": 47,
   "metadata": {},
   "outputs": [
    {
     "name": "stdout",
     "output_type": "stream",
     "text": [
      "[('large', 0.9315248727798462)]\n",
      "[('slow', 0.876235842704773)]\n",
      "[('lovely', 0.8572112917900085)]\n"
     ]
    }
   ],
   "source": [
    "sim = word_emb.most_similar(positive = [\"small\", \"up\"], negative=[\"down\"], topn=1)\n",
    "print(sim)\n",
    "sim = word_emb.most_similar(positive = [\"fast\", \"large\"], negative=[\"small\"], topn=1)\n",
    "print(sim)\n",
    "sim = word_emb.most_similar(positive = [\"beautiful\", \"slow\"], negative=[\"fast\"], topn=1)\n",
    "print(sim)"
   ]
  },
  {
   "cell_type": "code",
   "execution_count": 49,
   "metadata": {},
   "outputs": [
    {
     "data": {
      "text/plain": [
       "[]"
      ]
     },
     "execution_count": 49,
     "metadata": {},
     "output_type": "execute_result"
    },
    {
     "data": {
      "image/png": "[encoded data removed]",
      "text/plain": [
       "<Figure size 432x288 with 1 Axes>"
      ]
     },
     "metadata": {
      "needs_background": "light"
     },
     "output_type": "display_data"
    }
   ],
   "source": [
    "words_to_plot = [\"small\", \"large\", \"up\", \"down\", \"fast\", \"slow\", \"beautiful\", \"ugly\", \"on\", \"off\"]\n",
    "ax = plot_word_embeddings(words=words_to_plot, embedding=word_emb)\n",
    "ax.plot()"
   ]
  },
  {
   "cell_type": "markdown",
   "metadata": {},
   "source": [
    "### 4. You can also use word embedding to detect the odd one out \n",
    "- For instance which word does not belong in *Ross, Kenneth, Tim, glass*? You can do this simply using: `word_emb.doesnt_match(\"kenneth ross tim glass\".split())`. Try this out on three samples.\n",
    "- Typically word embeddings are quite intuitive, discuss or write down your best answer to how one might find the odd one out?"
   ]
  },
  {
   "cell_type": "code",
   "execution_count": 61,
   "metadata": {},
   "outputs": [
    {
     "name": "stdout",
     "output_type": "stream",
     "text": [
      "glass\n",
      "mango\n",
      "magenta\n"
     ]
    }
   ],
   "source": [
    "print(word_emb.doesnt_match(\"kenneth ross tim glass\".split()),\n",
    "      word_emb.doesnt_match(\"horse cow goat mango\".split()),\n",
    "      word_emb.doesnt_match(\"blue red green magenta\".split()), sep ='\\n')"
   ]
  },
  {
   "cell_type": "code",
   "execution_count": 99,
   "metadata": {},
   "outputs": [
    {
     "name": "stdout",
     "output_type": "stream",
     "text": [
      "{'horse': 0.5673723518848419, 'cow': 0.6304495856165886, 'goat': 0.7182816565036774, 'mango': 0.5197761282324791}\n",
      "('mango', 0.5197761282324791)\n"
     ]
    }
   ],
   "source": [
    "words = \"horse cow goat mango\".split()\n",
    "d = {}\n",
    "\n",
    "for word in words:\n",
    "    sim = sum([word_emb.similarity(word, new_word) for new_word in words])/len(words)\n",
    "    d[word] = sim\n",
    "\n",
    "print(d)\n",
    "print(min(d.items(), key= lambda x: x[1]))\n"
   ]
  },
  {
   "cell_type": "code",
   "execution_count": 100,
   "metadata": {},
   "outputs": [
    {
     "name": "stdout",
     "output_type": "stream",
     "text": [
      "{'horse': 0.7373246, 'cow': 0.8132138, 'goat': 0.9147946, 'mango': 0.6554898}\n",
      "('mango', 0.6554898)\n"
     ]
    }
   ],
   "source": [
    "mean = sum([word_emb[word] for word in words])/len(words)\n",
    "\n",
    "d = {}\n",
    "for word in words:\n",
    "    d[word] = cosine(mean, word_emb[word])\n",
    "\n",
    "print(d)\n",
    "print(min(d.items(), key= lambda x: x[1]))"
   ]
  },
  {
   "cell_type": "markdown",
   "metadata": {},
   "source": [
    "### 5. Which word embedding is closest to the word embedding of *corona*; *virus* or *beer*? \n",
    "- Justify your answer before you test it using the word embedding.\n",
    "- What does this tell you about word embeddings?"
   ]
  },
  {
   "cell_type": "code",
   "execution_count": 98,
   "metadata": {},
   "outputs": [
    {
     "name": "stdout",
     "output_type": "stream",
     "text": [
      "0.11074722\n",
      "0.21541153\n",
      "0.3652512\n",
      "0.3741919\n",
      "[('cruces', 0.6676092147827148), ('janiero', 0.661956250667572), ('segundo', 0.6618181467056274), ('colle', 0.6601405143737793), ('guadalajara', 0.6472588777542114), ('trevi', 0.6386085152626038), ('indio', 0.6357836723327637), ('nido', 0.6281096935272217), ('monte', 0.6276906132698059), ('aurora', 0.6240447759628296)]\n"
     ]
    }
   ],
   "source": [
    "print(word_emb.similarity('corona', 'beer'),\n",
    "      word_emb.similarity('corona', 'virus'),\n",
    "      word_emb.similarity('corona', 'mexico'),\n",
    "      word_emb.similarity('corona', 'lime'), sep='\\n')\n",
    "\n",
    "print(word_emb.most_similar('corona', topn=10))"
   ]
  },
  {
   "cell_type": "code",
   "execution_count": null,
   "metadata": {},
   "outputs": [],
   "source": []
  }
 ],
 "metadata": {
  "interpreter": {
   "hash": "94f20621c34d06f296d998be094ddbe636a1cbce433580f5c6b944e0692a01ca"
  },
  "kernelspec": {
   "display_name": "Python 3.9.1 64-bit ('nlp': virtualenv)",
   "name": "python3"
  },
  "language_info": {
   "codemirror_mode": {
    "name": "ipython",
    "version": 3
   },
   "file_extension": ".py",
   "mimetype": "text/x-python",
   "name": "python",
   "nbconvert_exporter": "python",
   "pygments_lexer": "ipython3",
   "version": "3.9.1"
  },
  "orig_nbformat": 4
 },
 "nbformat": 4,
 "nbformat_minor": 2
}
