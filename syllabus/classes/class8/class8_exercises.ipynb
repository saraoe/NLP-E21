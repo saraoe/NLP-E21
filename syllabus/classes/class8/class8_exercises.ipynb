{
 "cells": [
  {
   "cell_type": "markdown",
   "metadata": {},
   "source": [
    "# Exercises on attention"
   ]
  },
  {
   "cell_type": "code",
   "execution_count": 31,
   "metadata": {},
   "outputs": [],
   "source": [
    "import numpy as np\n",
    "import torch"
   ]
  },
  {
   "cell_type": "markdown",
   "metadata": {},
   "source": [
    "### Dot product\n",
    "1) Calculate the dot product between two word embedding which you believe are similar\n",
    "2) Calculate the dot product between the two word and a word which you believe is dissimilar"
   ]
  },
  {
   "cell_type": "code",
   "execution_count": 2,
   "metadata": {},
   "outputs": [],
   "source": [
    "import gensim.downloader as api\n",
    "model = api.load(\"glove-wiki-gigaword-50\")"
   ]
  },
  {
   "cell_type": "code",
   "execution_count": 11,
   "metadata": {},
   "outputs": [
    {
     "data": {
      "text/plain": [
       "25.906174"
      ]
     },
     "execution_count": 11,
     "metadata": {},
     "output_type": "execute_result"
    }
   ],
   "source": [
    "np.dot(model['man'], model['woman'])"
   ]
  },
  {
   "cell_type": "code",
   "execution_count": 10,
   "metadata": {},
   "outputs": [
    {
     "data": {
      "text/plain": [
       "5.3584146"
      ]
     },
     "execution_count": 10,
     "metadata": {},
     "output_type": "execute_result"
    }
   ],
   "source": [
    "np.dot(model['house'], model['jump'])"
   ]
  },
  {
   "cell_type": "code",
   "execution_count": 13,
   "metadata": {},
   "outputs": [
    {
     "data": {
      "text/plain": [
       "27.504671"
      ]
     },
     "execution_count": 13,
     "metadata": {},
     "output_type": "execute_result"
    }
   ],
   "source": [
    "np.dot(model['man'], model['man'])"
   ]
  },
  {
   "cell_type": "code",
   "execution_count": 18,
   "metadata": {},
   "outputs": [
    {
     "data": {
      "text/plain": [
       "15.239387"
      ]
     },
     "execution_count": 18,
     "metadata": {},
     "output_type": "execute_result"
    }
   ],
   "source": [
    "np.dot(model['man'], model['house'])"
   ]
  },
  {
   "cell_type": "code",
   "execution_count": 19,
   "metadata": {},
   "outputs": [
    {
     "data": {
      "text/plain": [
       "15.118877"
      ]
     },
     "execution_count": 19,
     "metadata": {},
     "output_type": "execute_result"
    }
   ],
   "source": [
    "np.dot(model['woman'], model['house'])"
   ]
  },
  {
   "cell_type": "markdown",
   "metadata": {},
   "source": [
    "3) make the three words into a matrix $E$ and multiply it with its own transpose using matrix multiplication. So $E \\cdot E^T$"
   ]
  },
  {
   "cell_type": "code",
   "execution_count": 22,
   "metadata": {},
   "outputs": [
    {
     "data": {
      "text/plain": [
       "array([[27.504673, 25.906172, 15.239388],\n",
       "       [25.906172, 31.081322, 15.118874],\n",
       "       [15.239388, 15.118874, 26.629263]], dtype=float32)"
      ]
     },
     "execution_count": 22,
     "metadata": {},
     "output_type": "execute_result"
    }
   ],
   "source": [
    "E = np.array([model['man'], model['woman'], model['house']])\n",
    "np.matmul(E, E.T)\n",
    "# This is equal to the dot product between the word embeddings \n",
    "# - e.g. first col = dot(man, man), dot(man, woman), dot(man, house)"
   ]
  },
  {
   "cell_type": "code",
   "execution_count": 54,
   "metadata": {},
   "outputs": [
    {
     "data": {
      "image/png": "[encoded data removed]",
      "text/plain": [
       "<Figure size 432x288 with 2 Axes>"
      ]
     },
     "metadata": {
      "needs_background": "light"
     },
     "output_type": "display_data"
    }
   ],
   "source": [
    "import matplotlib.pyplot as plt\n",
    "QK =np.matmul(E, E.T)\n",
    "plt.imshow(QK, cmap='Blues')\n",
    "plt.colorbar()\n",
    "plt.axis('off')\n",
    "plt.show()"
   ]
  },
  {
   "cell_type": "markdown",
   "metadata": {},
   "source": [
    "4) Examine the attention formula from Vaswani et al. (2017), you have now implemented $Q\\cdot K^T$\n",
    "\n",
    "$$\n",
    "Attention(Q, K, V) = softmax(\\frac{Q\\cdot K^T}{\\sqrt{d}}) \\cdot V\n",
    "$$\n",
    "Where $d$ is the dimension of of the embedding and Q, K, V stands for queries, keys and values.\n",
    "\n",
    "\n",
    "  - 4.1) Now add the softmax. Examining the outcome, how come that the matrix is no longer symmetric?\n",
    "  - 4.2) Now normalize the using the $\\sqrt{d}$, how does this change the outcome?"
   ]
  },
  {
   "cell_type": "code",
   "execution_count": 25,
   "metadata": {},
   "outputs": [],
   "source": [
    "E = np.array([model['man'], model['woman'], model['house']])\n",
    "QK = np.matmul(E, E.T)"
   ]
  },
  {
   "cell_type": "code",
   "execution_count": 57,
   "metadata": {},
   "outputs": [
    {
     "data": {
      "text/plain": [
       "tensor([[8.3181e-01, 5.6236e-03, 1.1309e-05],\n",
       "        [1.6819e-01, 9.9438e-01, 1.0025e-05],\n",
       "        [3.9199e-06, 1.1618e-07, 9.9998e-01]])"
      ]
     },
     "execution_count": 57,
     "metadata": {},
     "output_type": "execute_result"
    }
   ],
   "source": [
    "QK_tensor = torch.tensor(QK)\n",
    "soft = torch.nn.Softmax(dim=0)\n",
    "soft(QK_tensor)"
   ]
  },
  {
   "cell_type": "code",
   "execution_count": 32,
   "metadata": {},
   "outputs": [
    {
     "data": {
      "text/plain": [
       "array([[3.889748 , 3.663686 , 2.155175 ],\n",
       "       [3.663686 , 4.3955626, 2.1381316],\n",
       "       [2.155175 , 2.1381316, 3.7659464]], dtype=float32)"
      ]
     },
     "execution_count": 32,
     "metadata": {},
     "output_type": "execute_result"
    }
   ],
   "source": [
    "d = 50\n",
    "QK/np.sqrt(d)"
   ]
  },
  {
   "cell_type": "code",
   "execution_count": 58,
   "metadata": {},
   "outputs": [],
   "source": [
    "attention = soft(torch.tensor(QK/np.sqrt(d)))"
   ]
  },
  {
   "cell_type": "code",
   "execution_count": 61,
   "metadata": {},
   "outputs": [
    {
     "data": {
      "image/png": "[encoded data removed]",
      "text/plain": [
       "<Figure size 432x288 with 2 Axes>"
      ]
     },
     "metadata": {
      "needs_background": "light"
     },
     "output_type": "display_data"
    }
   ],
   "source": [
    "import matplotlib.pyplot as plt\n",
    "plt.imshow(attention, cmap='Blues')\n",
    "plt.colorbar()\n",
    "plt.axis('off')\n",
    "plt.show()"
   ]
  },
  {
   "cell_type": "markdown",
   "metadata": {},
   "source": [
    "The matrix resulting from the softmax is referred to as the attention matrix and is how much each matrix should pay attention to the others when we multiply our attention matrix by our matrix $E$ (corresponding to $V$). Try it out:\n",
    "\n",
    "- 5.1) This is essentially a weighted sum, one way to see this is to extract the weight from the first row of the matrix"
   ]
  },
  {
   "cell_type": "code",
   "execution_count": 78,
   "metadata": {},
   "outputs": [
    {
     "data": {
      "text/plain": [
       "tensor([-0.0168,  0.4553, -0.2684, -0.4422,  1.4078,  0.6498, -0.4594,  0.3144,\n",
       "        -0.0282, -0.1918, -0.2583, -0.1760, -0.2305,  0.4504,  0.5662, -0.2919,\n",
       "        -0.2262,  0.4274, -0.3106,  0.0906, -0.4081,  1.2343, -0.0629,  0.3290,\n",
       "         0.3516, -2.4893, -0.6507,  0.3532,  0.1980, -0.2516,  2.4110, -0.4003,\n",
       "        -0.2784,  0.0607,  0.2499,  0.1769,  0.0999, -0.0049,  0.2741, -0.6425,\n",
       "        -0.1757,  0.4778,  0.0475,  0.1765,  0.5002, -0.4469, -0.4376, -1.0416,\n",
       "         0.4228, -0.0625])"
      ]
     },
     "execution_count": 78,
     "metadata": {},
     "output_type": "execute_result"
    }
   ],
   "source": [
    "attn = attention[0] # first row\n",
    "weighted = attn[0] * E[0] + attn[1] * E[1] + attn[2] * E[2]\n",
    "weighted"
   ]
  },
  {
   "cell_type": "markdown",
   "metadata": {},
   "source": [
    "6) now I want to create a function called attention to compute the scaled dot product attention presented above. It should return both the output, but also the attention matrix. Use to compute the scaled dot product attention of the embeddings `[\"man\", \"woman\", \"apple\", \"banana\", \"pineapple\"]` (you shouldn't use any learned weights).\n",
    "\n",
    "- 6.1) Examine the attention matrix, which words have a higher attention weight and why?"
   ]
  },
  {
   "cell_type": "code",
   "execution_count": null,
   "metadata": {},
   "outputs": [],
   "source": [
    "def attention(Q,K,v):\n",
    "    d = v.shape[0]\n",
    "    QK = np.matmul(Q,K)/np.sqrt(d)\n",
    "\n",
    "    soft = torch.nn.Softmax(dim=0)\n",
    "    attn_mat = soft(torch.Tensor(QK))\n",
    "    return attn_mat"
   ]
  }
 ],
 "metadata": {
  "interpreter": {
   "hash": "94f20621c34d06f296d998be094ddbe636a1cbce433580f5c6b944e0692a01ca"
  },
  "kernelspec": {
   "display_name": "Python 3.9.1 64-bit ('nlp': venv)",
   "name": "python3"
  },
  "language_info": {
   "codemirror_mode": {
    "name": "ipython",
    "version": 3
   },
   "file_extension": ".py",
   "mimetype": "text/x-python",
   "name": "python",
   "nbconvert_exporter": "python",
   "pygments_lexer": "ipython3",
   "version": "3.9.1"
  },
  "orig_nbformat": 4
 },
 "nbformat": 4,
 "nbformat_minor": 2
}
