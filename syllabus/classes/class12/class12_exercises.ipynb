{
 "cells": [
  {
   "cell_type": "markdown",
   "metadata": {},
   "source": [
    "# Exercises for Class 12: Augmentation\n",
    "\n",
    "1) Solve the above mystery, why doesn't the model estimate change might when uppercasing? *Hint*: Check the tokenizer of the model\n",
    "2) Examining the data, I seemed to notice that spelling error were more common among offensive tweets. Is this correct? [*Hint*](https://kennethenevoldsen.github.io/augmenty/augmenty.character.html?highlight=keystroke#augmenty.character.replace.create_keystroke_error_augmenter)\n",
    "3) Examine the data yourself and create three hypothesis on what augmentation might change the performance.\n",
    "4) Outline how you could apply augmentation (behavioral testing) to examine a model (or pipeline) in your project\n",
    "5) (Optional): Apply this behavioural testing to your model"
   ]
  },
  {
   "cell_type": "markdown",
   "metadata": {},
   "source": [
    "#### Setup before exercises (from augmentation.ipynb)"
   ]
  },
  {
   "cell_type": "code",
   "execution_count": 1,
   "metadata": {},
   "outputs": [],
   "source": [
    "import ssl\n",
    "\n",
    "ssl._create_default_https_context = ssl._create_unverified_context"
   ]
  },
  {
   "cell_type": "code",
   "execution_count": 2,
   "metadata": {},
   "outputs": [
    {
     "name": "stdout",
     "output_type": "stream",
     "text": [
      "Downloading file C:\\Users\\Sara\\AppData\\Local\\Temp\\tmp9kz5ibxv\n"
     ]
    }
   ],
   "source": [
    "from danlp.datasets import DKHate\n",
    "import pandas as pd\n",
    "dkhate = DKHate()\n",
    "test, train = dkhate.load_with_pandas()\n",
    "\n",
    "samples = 20\n",
    "\n",
    "# make sure to sample evenly from the two samples\n",
    "n_labels = len(test[\"subtask_a\"].unique())\n",
    "samples_pr_lab = samples//n_labels\n",
    "\n",
    "off = test[test[\"subtask_a\"] == \"OFF\"].sample(samples_pr_lab)\n",
    "not_off = test[test[\"subtask_a\"] == \"NOT\"].sample(samples_pr_lab)\n",
    "mini_test = pd.concat([off, not_off])"
   ]
  },
  {
   "cell_type": "code",
   "execution_count": 3,
   "metadata": {},
   "outputs": [
    {
     "name": "stderr",
     "output_type": "stream",
     "text": [
      "Downloading: 100%|██████████| 905/905 [00:00<00:00, 302kB/s]\n",
      "Downloading: 100%|██████████| 443M/443M [01:25<00:00, 5.18MB/s]\n",
      "Downloading: 100%|██████████| 253k/253k [00:00<00:00, 566kB/s]\n",
      "Downloading: 100%|██████████| 112/112 [00:00<00:00, 56.2kB/s]\n",
      "Downloading: 100%|██████████| 342/342 [00:00<00:00, 89.4kB/s]\n"
     ]
    }
   ],
   "source": [
    "from transformers import pipeline\n",
    "\n",
    "model_name = \"DaNLP/da-bert-hatespeech-detection\"\n",
    "pipe = pipeline(\"sentiment-analysis\", # text classification == sentiment analysis (don't ask me why, but they removed textcat in the latest version)\n",
    "               model=model_name)"
   ]
  },
  {
   "cell_type": "code",
   "execution_count": 4,
   "metadata": {},
   "outputs": [],
   "source": [
    "texts = mini_test[\"tweet\"].to_list()\n",
    "\n",
    "def apply(texts):\n",
    "    output = pipe(texts, truncation=True)\n",
    "    return [t[\"score\"] if t[\"label\"] == \"offensive\" else 1 - t[\"score\"] for t in output]\n",
    "\n",
    "\n",
    "# first without augmentations\n",
    "mini_test[\"p_offensive_no_aug\"] = apply(texts)"
   ]
  },
  {
   "cell_type": "code",
   "execution_count": 5,
   "metadata": {},
   "outputs": [],
   "source": [
    "import augmenty\n",
    "import spacy\n",
    "\n",
    "nlp = spacy.load(\"da_core_news_lg\")"
   ]
  },
  {
   "cell_type": "code",
   "execution_count": 6,
   "metadata": {},
   "outputs": [],
   "source": [
    "# load an augmenter\n",
    "upper_case_augmenter = augmenty.load(\"upper_case.v1\", level=1.00) # augment 100% "
   ]
  },
  {
   "cell_type": "code",
   "execution_count": 7,
   "metadata": {},
   "outputs": [],
   "source": [
    "aug_texts = augmenty.texts(texts, augmenter=upper_case_augmenter, nlp=nlp)\n",
    "mini_test[\"p_offensive_upper\"] = apply(list(aug_texts))"
   ]
  },
  {
   "cell_type": "code",
   "execution_count": 8,
   "metadata": {},
   "outputs": [
    {
     "name": "stdout",
     "output_type": "stream",
     "text": [
      "The augmentation lead to classification changes in 0/20\n",
      "The average prob. of OFF went from 0.408(0.493) to 0.408(0.493).\n",
      "The average prob. of NOT went from 0.004(0.006) to 0.004(0.006).\n"
     ]
    }
   ],
   "source": [
    "def compare_cols(\n",
    "    augmentation,\n",
    "    baseline=mini_test[\"p_offensive_no_aug\"],\n",
    "    category=mini_test[\"subtask_a\"],\n",
    "):\n",
    "    \"\"\"Compares augmentation with the baseline for each of the categories\"\"\"\n",
    "    changes = ((augmentation > 0.5) != (baseline > 0.5)).sum()\n",
    "    n = len(augmentation)\n",
    "    print(f\"The augmentation lead to classification changes in {changes}/{n}\")\n",
    "    for cat in set(category):\n",
    "        aug_cat_mean = augmentation[category == cat].mean().round(3)\n",
    "        aug_cat_std = augmentation[category == cat].std().round(3)\n",
    "        cat_mean = baseline[category == cat].mean().round(3)\n",
    "        cat_std = baseline[category == cat].std().round(3)\n",
    "        print(\n",
    "            f\"The average prob. of {cat} went from {cat_mean}({cat_std}) to {aug_cat_mean}({aug_cat_std}).\"\n",
    "        )\n",
    "\n",
    "compare_cols(mini_test[\"p_offensive_upper\"])"
   ]
  },
  {
   "cell_type": "markdown",
   "metadata": {},
   "source": [
    "### 1) Solve the above mystery, why doesn't the model estimate change might when uppercasing?"
   ]
  },
  {
   "cell_type": "code",
   "execution_count": 17,
   "metadata": {},
   "outputs": [
    {
     "name": "stdout",
     "output_type": "stream",
     "text": [
      "NORMALT SYNES JEG MARX VAR LIGE HØJREORIENTERET NOK. MEN PÅ DETTE PUNKT KAN JEG MÆRKE EN EKSTREMT LIBERAL TILGANG TIL EMNE. TIL DENNE DEBAT VIL JEG SIGE, AT KRÆNKELSESKULTUREN ER EN AF DE DUMMESTE IMPORTER, VI HAR GJORT OS FRA NORDAMERIKA.  JEG AFVENTER PERSONLIGT, AT VI KOLLEKTIVT VEDTAGER, AT DET ER FLØJTENDE LIGEGYLDIGT OM MAN ER FØDT MED TAP ELLER EJ, HVAD FARVE MAN HAR, OG HVEM MAN BEDST KAN LIDE AT KYSSE PÅ.  NEJ, VI VIL IKKE HAVE HATE CRIMES. NEJ, VI GIDER IKKE SE PÅ PASSIV HUMOR PÅ BEKOSTNING AF ANDRE. MEN MAN SKULLE FANDME TRO, AT DANMARK HAVDE ASSIMILERET DEN MELLEMØSTLIGE AVERSION OVERFOR SELVIRONI. HVILKET ER NOGET BEKLAGELIGT EFTERSOM SELVIRONI ER ET RET STORT INTERPERSONLIGT FÆNOMEN FOR DANSKERE.   MEN ER EN JOKE OM, AT NOGEN GANGE VENTEDE JEG LIDT LÆNGE PÅ, AT MIN EKS GJORDE SIG KLAR PÅ BEKOSTNING AF HENDE? ELLER ER DEN RELATERBAR FOR ANDRE MÆND OG KVINDER, DER GODT LIDT KAN SE, AT DER (FOR MANGE) ER NOGET OM SNAKKEN? I VIRKELIGHEDEN SIGER JEG JO MED EN SÅDAN KOMMENTAR, AT JEG FANDT HENDE NATURLIGT SMUK OG GLASUREN OVERFLØDIG.  JEG BLIVER SÅ EVIGT TRÆT AF, AT MAN SKAL HAVE BONUSPOINT FOR AT VÆRE FØDT SOM NOGET SPECIELT, HVOR SPECIELT PÅ NYMARXISTISK VIS BLOT BETYDER ANDERLEDES FRA DEN MEST DOMINERENDE GRUPPE; DEN HVIDE HETEROMAND. JEG TÆNKER, AT DET MÅ VÆRE RIMELIGT, AT ALLE HAR LIGE VILKÅR, OG AT ALLE MÅ DELTAGE I DEN KULTUR VI HAR HER PÅ STEDET. LAD OS NU I STEDET FOR AT SKÆLDE UD PÅ ALLE JOKES PRØVE AT ISOLERE DEM, DER ER SAGT MED HAD, FRA DEM, DER IKKE ER.  JEG VAR ENGANG PÅ EN TINDER-DATE MED EN SÅKALDT QUEER FEMINIST. HUN SAGDE EN MASSE TING, SOM JEG I ÅREVIS HAR SET NÆRMEST ORDRET FREMFØRT I DEBATTER FRA USA OG CANADA. BOMBEN SMED HUN DOG FØRST TIL SIDST, DA HUN SAGDE, AT ALLE MÆND ER SEXISTER OG ALLE HVIDE MENNESKER ER RACISTER. FORDI BEGGE GRUPPER ANGIVELIGT VINDER PÅ, AT ANDRE ER DEM UNDERTRYKT.  OG DET ER DA BARE SUPER, AT MAN SKÆRER ALLE OVER ÉN KAM PÅ DEN MÅDE. SÅ JEG ER ÅBENBART SOM HVID MAND RACIST. LIGESOM HITLER. DET ER SUPER, AT REGNBUEBEVÆGELSEN ER SÅ BLIND OVERFOR GRÅZONER.   DET HANDLER SELVFØLGELIG OM, AT SPROGPSYKOLOGIEN FRA DE FRANSKE FILOSOFFER FRA 60ERNE LÆRTE OS, AT SPROGLIGE UDTRYK HAR DERES ENDELIGE EFFEKT HOS MODTAGEREN. DERFOR TRÆDER VI OFTE FOLK OVER TÆERNE UDEN AT VIDE DET, NÅR VI SÅDAN GÅR OG JOKER \"SOM MAN ALTID HAR GJORT\". EN FIN TANKE AT VILLE VÆRE PROGRESSIV OG OPTIMERE SPROGETS BRUG. MEN HUMOR KAN IKKE BANDLYSES UDEN KONSEKVENSER.   /RANT\n",
      "DET FANDME EN FUGTIG MIGMIG DET DER\n",
      "[FUCK YOU!! INGLIN WILL RISE AGAIN!!](URL\n",
      "DET ER KRAFTEDME EN STOR PRÆSTATION DER HER, ER HELT OPPE AT KØRE!! DER SKAL I DEN GRAD DRIKKES NOGEN SEJERS BAJERE I AFTEN\n",
      "PASSIV AGGRESSIV MÅDE AT KALDE DIG FOR ET PIKFJÆS\n",
      "NORGE ER NU IKKE SÅ SLEMT IGEN... AKA SVENSKEN AIN'T GOT SHIT ON US...\n",
      "HAN EJER IKKE RESPEKT FOR NOGEN ELLER NOGET....HAN ER MEGALOMAN OG PSYKOPAT\n",
      "DET SGU HELLER IKKE OKAY. JEG HAVDE SGU OGSÅ BLEVET SUR !\n",
      "FUCKKKKK DET HER ER MIG....\n",
      "SYGE KÆLLING, HUN SKULLE I FÆNGSEL FOR DET STUNT. \n"
     ]
    }
   ],
   "source": [
    "texts_batch = []\n",
    "for i, txt in enumerate(augmenty.texts(texts, augmenter=upper_case_augmenter, nlp=nlp)):\n",
    "    print(txt, end='\\n')\n",
    "    texts_batch.append(txt)\n",
    "    if i == 9:\n",
    "        break"
   ]
  },
  {
   "cell_type": "code",
   "execution_count": 18,
   "metadata": {},
   "outputs": [
    {
     "name": "stdout",
     "output_type": "stream",
     "text": [
      "{'label': 'not offensive', 'score': 0.8743921518325806}\n",
      "{'label': 'not offensive', 'score': 0.9776104092597961}\n",
      "{'label': 'offensive', 'score': 0.9834025502204895}\n",
      "{'label': 'not offensive', 'score': 0.9994292259216309}\n",
      "{'label': 'offensive', 'score': 0.9637059569358826}\n",
      "{'label': 'not offensive', 'score': 0.998209536075592}\n",
      "{'label': 'offensive', 'score': 0.9789860248565674}\n",
      "{'label': 'not offensive', 'score': 0.9995690584182739}\n",
      "{'label': 'not offensive', 'score': 0.9866626858711243}\n",
      "{'label': 'offensive', 'score': 0.9946720004081726}\n"
     ]
    }
   ],
   "source": [
    "for t in pipe(texts_batch, truncation=True):\n",
    "    print(t)"
   ]
  },
  {
   "cell_type": "markdown",
   "metadata": {},
   "source": [
    "### 2) Examining the data, I seemed to notice that spelling error were more common among offensive tweets. Is this correct?"
   ]
  },
  {
   "cell_type": "code",
   "execution_count": 19,
   "metadata": {},
   "outputs": [
    {
     "data": {
      "text/html": [
       "<div>\n",
       "<style scoped>\n",
       "    .dataframe tbody tr th:only-of-type {\n",
       "        vertical-align: middle;\n",
       "    }\n",
       "\n",
       "    .dataframe tbody tr th {\n",
       "        vertical-align: top;\n",
       "    }\n",
       "\n",
       "    .dataframe thead th {\n",
       "        text-align: right;\n",
       "    }\n",
       "</style>\n",
       "<table border=\"1\" class=\"dataframe\">\n",
       "  <thead>\n",
       "    <tr style=\"text-align: right;\">\n",
       "      <th></th>\n",
       "      <th>tweet</th>\n",
       "      <th>subtask_a</th>\n",
       "      <th>p_offensive_no_aug</th>\n",
       "      <th>p_offensive_upper</th>\n",
       "    </tr>\n",
       "    <tr>\n",
       "      <th>id</th>\n",
       "      <th></th>\n",
       "      <th></th>\n",
       "      <th></th>\n",
       "      <th></th>\n",
       "    </tr>\n",
       "  </thead>\n",
       "  <tbody>\n",
       "    <tr>\n",
       "      <th>544</th>\n",
       "      <td>Normalt synes jeg Marx var lige højreorientere...</td>\n",
       "      <td>OFF</td>\n",
       "      <td>0.125608</td>\n",
       "      <td>0.125608</td>\n",
       "    </tr>\n",
       "    <tr>\n",
       "      <th>3326</th>\n",
       "      <td>Det fandme en fugtig migmig det der</td>\n",
       "      <td>OFF</td>\n",
       "      <td>0.022390</td>\n",
       "      <td>0.022390</td>\n",
       "    </tr>\n",
       "    <tr>\n",
       "      <th>1425</th>\n",
       "      <td>[FUCK YOU!! INGLIN WILL RISE AGAIN!!](URL</td>\n",
       "      <td>OFF</td>\n",
       "      <td>0.983403</td>\n",
       "      <td>0.983403</td>\n",
       "    </tr>\n",
       "    <tr>\n",
       "      <th>3299</th>\n",
       "      <td>Det er kraftedme en stor præstation der her, e...</td>\n",
       "      <td>OFF</td>\n",
       "      <td>0.000571</td>\n",
       "      <td>0.000571</td>\n",
       "    </tr>\n",
       "    <tr>\n",
       "      <th>962</th>\n",
       "      <td>Passiv aggressiv måde at kalde dig for et pikfjæs</td>\n",
       "      <td>OFF</td>\n",
       "      <td>0.963706</td>\n",
       "      <td>0.963706</td>\n",
       "    </tr>\n",
       "    <tr>\n",
       "      <th>546</th>\n",
       "      <td>Norge er nu ikke så slemt igen... AKA Svensken...</td>\n",
       "      <td>OFF</td>\n",
       "      <td>0.001790</td>\n",
       "      <td>0.001790</td>\n",
       "    </tr>\n",
       "    <tr>\n",
       "      <th>1251</th>\n",
       "      <td>Han EJER ikke respekt for nogen eller noget......</td>\n",
       "      <td>OFF</td>\n",
       "      <td>0.978986</td>\n",
       "      <td>0.978986</td>\n",
       "    </tr>\n",
       "    <tr>\n",
       "      <th>519</th>\n",
       "      <td>Det sgu heller ikke okay. jeg havde sgu også b...</td>\n",
       "      <td>OFF</td>\n",
       "      <td>0.000431</td>\n",
       "      <td>0.000431</td>\n",
       "    </tr>\n",
       "    <tr>\n",
       "      <th>658</th>\n",
       "      <td>Fuckkkkk det her er mig....</td>\n",
       "      <td>OFF</td>\n",
       "      <td>0.013337</td>\n",
       "      <td>0.013337</td>\n",
       "    </tr>\n",
       "    <tr>\n",
       "      <th>890</th>\n",
       "      <td>Syge kælling, hun skulle i fængsel for det stu...</td>\n",
       "      <td>OFF</td>\n",
       "      <td>0.994672</td>\n",
       "      <td>0.994672</td>\n",
       "    </tr>\n",
       "    <tr>\n",
       "      <th>2665</th>\n",
       "      <td>Fyfan. Men 15 grader idag, äntligen!</td>\n",
       "      <td>NOT</td>\n",
       "      <td>0.000588</td>\n",
       "      <td>0.000588</td>\n",
       "    </tr>\n",
       "    <tr>\n",
       "      <th>1123</th>\n",
       "      <td>Fet screendump med den svarta färgen där. Rikt...</td>\n",
       "      <td>NOT</td>\n",
       "      <td>0.000997</td>\n",
       "      <td>0.000997</td>\n",
       "    </tr>\n",
       "    <tr>\n",
       "      <th>261</th>\n",
       "      <td>**En skål for vore faldne landshelte fra det s...</td>\n",
       "      <td>NOT</td>\n",
       "      <td>0.010620</td>\n",
       "      <td>0.010620</td>\n",
       "    </tr>\n",
       "    <tr>\n",
       "      <th>2746</th>\n",
       "      <td>Pjece</td>\n",
       "      <td>NOT</td>\n",
       "      <td>0.000857</td>\n",
       "      <td>0.000857</td>\n",
       "    </tr>\n",
       "    <tr>\n",
       "      <th>224</th>\n",
       "      <td>Tjek RED-Safehouse ud: URLå flugt fra konflikt...</td>\n",
       "      <td>NOT</td>\n",
       "      <td>0.017082</td>\n",
       "      <td>0.017082</td>\n",
       "    </tr>\n",
       "    <tr>\n",
       "      <th>1200</th>\n",
       "      <td>Samtidig er der masser af kommunistisk materia...</td>\n",
       "      <td>NOT</td>\n",
       "      <td>0.001509</td>\n",
       "      <td>0.001509</td>\n",
       "    </tr>\n",
       "    <tr>\n",
       "      <th>581</th>\n",
       "      <td>Biograferne tjener absolut intet på billetten ...</td>\n",
       "      <td>NOT</td>\n",
       "      <td>0.001128</td>\n",
       "      <td>0.001128</td>\n",
       "    </tr>\n",
       "    <tr>\n",
       "      <th>1321</th>\n",
       "      <td>har I fået nyt job som historielærer?</td>\n",
       "      <td>NOT</td>\n",
       "      <td>0.003869</td>\n",
       "      <td>0.003869</td>\n",
       "    </tr>\n",
       "    <tr>\n",
       "      <th>1189</th>\n",
       "      <td>Det er bare virkeligt ærgeligt at deres app er...</td>\n",
       "      <td>NOT</td>\n",
       "      <td>0.000116</td>\n",
       "      <td>0.000116</td>\n",
       "    </tr>\n",
       "    <tr>\n",
       "      <th>2204</th>\n",
       "      <td>Didn't work too well, did it? URL</td>\n",
       "      <td>NOT</td>\n",
       "      <td>0.003214</td>\n",
       "      <td>0.003214</td>\n",
       "    </tr>\n",
       "  </tbody>\n",
       "</table>\n",
       "</div>"
      ],
      "text/plain": [
       "                                                  tweet subtask_a  \\\n",
       "id                                                                  \n",
       "544   Normalt synes jeg Marx var lige højreorientere...       OFF   \n",
       "3326                Det fandme en fugtig migmig det der       OFF   \n",
       "1425          [FUCK YOU!! INGLIN WILL RISE AGAIN!!](URL       OFF   \n",
       "3299  Det er kraftedme en stor præstation der her, e...       OFF   \n",
       "962   Passiv aggressiv måde at kalde dig for et pikfjæs       OFF   \n",
       "546   Norge er nu ikke så slemt igen... AKA Svensken...       OFF   \n",
       "1251  Han EJER ikke respekt for nogen eller noget......       OFF   \n",
       "519   Det sgu heller ikke okay. jeg havde sgu også b...       OFF   \n",
       "658                         Fuckkkkk det her er mig....       OFF   \n",
       "890   Syge kælling, hun skulle i fængsel for det stu...       OFF   \n",
       "2665               Fyfan. Men 15 grader idag, äntligen!       NOT   \n",
       "1123  Fet screendump med den svarta färgen där. Rikt...       NOT   \n",
       "261   **En skål for vore faldne landshelte fra det s...       NOT   \n",
       "2746                                              Pjece       NOT   \n",
       "224   Tjek RED-Safehouse ud: URLå flugt fra konflikt...       NOT   \n",
       "1200  Samtidig er der masser af kommunistisk materia...       NOT   \n",
       "581   Biograferne tjener absolut intet på billetten ...       NOT   \n",
       "1321              har I fået nyt job som historielærer?       NOT   \n",
       "1189  Det er bare virkeligt ærgeligt at deres app er...       NOT   \n",
       "2204                  Didn't work too well, did it? URL       NOT   \n",
       "\n",
       "      p_offensive_no_aug  p_offensive_upper  \n",
       "id                                           \n",
       "544             0.125608           0.125608  \n",
       "3326            0.022390           0.022390  \n",
       "1425            0.983403           0.983403  \n",
       "3299            0.000571           0.000571  \n",
       "962             0.963706           0.963706  \n",
       "546             0.001790           0.001790  \n",
       "1251            0.978986           0.978986  \n",
       "519             0.000431           0.000431  \n",
       "658             0.013337           0.013337  \n",
       "890             0.994672           0.994672  \n",
       "2665            0.000588           0.000588  \n",
       "1123            0.000997           0.000997  \n",
       "261             0.010620           0.010620  \n",
       "2746            0.000857           0.000857  \n",
       "224             0.017082           0.017082  \n",
       "1200            0.001509           0.001509  \n",
       "581             0.001128           0.001128  \n",
       "1321            0.003869           0.003869  \n",
       "1189            0.000116           0.000116  \n",
       "2204            0.003214           0.003214  "
      ]
     },
     "execution_count": 19,
     "metadata": {},
     "output_type": "execute_result"
    }
   ],
   "source": [
    "mini_test"
   ]
  },
  {
   "cell_type": "code",
   "execution_count": 24,
   "metadata": {},
   "outputs": [],
   "source": [
    "keystroke_error_augmenter = augmenty.load(\"keystroke_error.v1\", level=0.10) # augment 10% "
   ]
  },
  {
   "cell_type": "code",
   "execution_count": 25,
   "metadata": {},
   "outputs": [
    {
     "name": "stdout",
     "output_type": "stream",
     "text": [
      "The augmentation lead to classification changes in 5/20\n",
      "The average prob. of OFF went from 0.408(0.493) to 0.125(0.309).\n",
      "The average prob. of NOT went from 0.004(0.006) to 0.007(0.015).\n"
     ]
    }
   ],
   "source": [
    "aug_texts = augmenty.texts(texts, augmenter=keystroke_error_augmenter, nlp=nlp)\n",
    "mini_test[\"p_offensive_keyerror\"] = apply(list(aug_texts))\n",
    "\n",
    "compare_cols(mini_test[\"p_offensive_keyerror\"])"
   ]
  },
  {
   "cell_type": "markdown",
   "metadata": {},
   "source": [
    "### 3) Examine the data yourself and create three hypothesis on what augmentation might change the performance."
   ]
  },
  {
   "cell_type": "code",
   "execution_count": 32,
   "metadata": {},
   "outputs": [],
   "source": [
    "synonym_augmenter = augmenty.load(\"wordnet_synonym.v1\", level=0.50) # augment 50%\n",
    "grundtvig_augmenter = augmenty.load(\"grundtvigian_spacing_augmenter.v1\", level=0.05) # augment 5%"
   ]
  },
  {
   "cell_type": "code",
   "execution_count": 37,
   "metadata": {},
   "outputs": [
    {
     "name": "stdout",
     "output_type": "stream",
     "text": [
      "Normalt synes jeg Marx var lige højreorienteret nok. Men på dette punkt kan jeg mærke en ekstremt liberal tilgang til emne. Til denne debat vil jeg sige, at krænkelseskulturen er en af de dummeste importer, vi har gjort os fra Nordamerika.  Jeg afventer personligt, a t vi kollektivt vedtager, at det er fløjtende ligegyldigt om man e r født med tap eller ej, hvad farve man har, og h v e m man b e d s t kan l i d e at kysse på.  Nej, vi vil ikke have hate crimes. Nej, vi gider ikke se på passiv humor på bekostning af andre. Men man skulle fandme tro, at Danmark havde assimileret den Mellemøstlige aversion overfor selvironi. Hvilket er noget beklageligt eftersom selvironi er et ret stort interpersonligt fænomen for danskere.   Men er en j o k e o m, at nogen gange ventede jeg lidt længe på, at min eks gjorde sig klar på bekostning af hende? Eller er den relaterbar for andre mænd og kvinder, der godt lidt kan se, at der (for mange) er noget om snakken? I virkeligheden siger jeg jo med en sådan kommentar, at jeg fandt hende naturligt smuk og glasuren overflødig.  Jeg bliver så evigt træt af, at man skal have bonuspoint for at være født som noget specielt, hvor specielt på nymarxistisk v i s blot betyder anderledes fra den mest dominerende gruppe; den hvide heteromand. Jeg tænker, at d e t må være rimeligt, a t alle har lige vilkår, og at alle må deltage i den kultur vi har her på stedet. Lad os nu i stedet for at skælde ud på a l l e jokes prøve at isolere dem, der er sagt med had, fra dem, der ikke er.  Jeg var engang p å en Tinder-date med en såkaldt queer feminist. Hun s a g d e en masse ting, som jeg i årevis har set nærmest ordret fremført i debatter fra USA og Canada. Bomben smed hun dog først til sidst, da hun sagde, at alle mænd er sexister og alle hvide mennesker er racister. Fordi begge grupper angiveligt vinder på, at andre er dem undertrykt.  Og det er da bare super, at man skærer alle over én kam på den måde. Så jeg e r åbenbart som hvid mand racist. Ligesom Hitler. Det er super, at regnbuebevægelsen er s å blind overfor gråzoner.   D e t handler selvfølgelig om, at sprogpsykologien fra de franske filosoffer fra 60erne lærte os, at sproglige udtryk har deres endelige effekt hos modtageren. Derfor t r æ d e r vi ofte folk over tæerne uden at vide det, når vi sådan går og joker \"som man altid har gjort\". En fin tanke at ville være progressiv og optimere s p r o g e t s brug. Men humor kan ikke bandlyses uden konsekvenser.   /rant\n",
      "Det fandme en fugtig migmig det der\n",
      "[FUCK YOU!! INGLIN WILL RISE AGAIN!!](URL\n",
      "Det er kraftedme en stor præstation der her, er helt oppe at køre!! Der skal i den grad drikkes nogen sejers bajere i aften\n",
      "P a s s i v aggressiv måde at kalde dig for et pikfjæs\n",
      "Norge er nu ikke så slemt igen... AKA Svensken ain't got shit on us...\n"
     ]
    }
   ],
   "source": [
    "for i, txt in enumerate(augmenty.texts(texts, augmenter=grundtvig_augmenter, nlp=nlp)):\n",
    "    print(txt, end='\\n')\n",
    "    if i == 5:\n",
    "        break"
   ]
  },
  {
   "cell_type": "code",
   "execution_count": 35,
   "metadata": {},
   "outputs": [
    {
     "name": "stdout",
     "output_type": "stream",
     "text": [
      "The augmentation lead to classification changes in 1/20\n",
      "The average prob. of OFF went from 0.408(0.493) to 0.497(0.514).\n",
      "The average prob. of NOT went from 0.004(0.006) to 0.017(0.024).\n"
     ]
    }
   ],
   "source": [
    "aug_texts = augmenty.texts(texts, augmenter=grundtvig_augmenter, nlp=nlp)\n",
    "mini_test[\"p_offensive_grundtvig\"] = apply(list(aug_texts))\n",
    "\n",
    "compare_cols(mini_test[\"p_offensive_grundtvig\"])"
   ]
  },
  {
   "cell_type": "code",
   "execution_count": 36,
   "metadata": {},
   "outputs": [
    {
     "name": "stdout",
     "output_type": "stream",
     "text": [
      "The augmentation lead to classification changes in 0/20\n",
      "The average prob. of OFF went from 0.408(0.493) to 0.412(0.492).\n",
      "The average prob. of NOT went from 0.004(0.006) to 0.004(0.006).\n"
     ]
    }
   ],
   "source": [
    "aug_texts = augmenty.texts(texts, augmenter=synonym_augmenter, nlp=nlp)\n",
    "mini_test[\"p_offensive_synonym\"] = apply(list(aug_texts))\n",
    "\n",
    "compare_cols(mini_test[\"p_offensive_synonym\"])"
   ]
  },
  {
   "cell_type": "code",
   "execution_count": null,
   "metadata": {},
   "outputs": [],
   "source": []
  }
 ],
 "metadata": {
  "interpreter": {
   "hash": "94f20621c34d06f296d998be094ddbe636a1cbce433580f5c6b944e0692a01ca"
  },
  "kernelspec": {
   "display_name": "Python 3.9.1 64-bit ('nlp': venv)",
   "language": "python",
   "name": "python3"
  },
  "language_info": {
   "codemirror_mode": {
    "name": "ipython",
    "version": 3
   },
   "file_extension": ".py",
   "mimetype": "text/x-python",
   "name": "python",
   "nbconvert_exporter": "python",
   "pygments_lexer": "ipython3",
   "version": "3.9.1"
  },
  "orig_nbformat": 4
 },
 "nbformat": 4,
 "nbformat_minor": 2
}
