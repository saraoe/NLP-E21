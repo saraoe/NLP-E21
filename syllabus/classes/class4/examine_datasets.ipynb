{
 "cells": [
  {
   "cell_type": "markdown",
   "metadata": {},
   "source": [
    "# Preparation to class 4: Examine datasets"
   ]
  },
  {
   "cell_type": "code",
   "execution_count": 1,
   "metadata": {},
   "outputs": [
    {
     "name": "stderr",
     "output_type": "stream",
     "text": [
      "Downloading: 28.8kB [00:00, 3.07MB/s]                   \n",
      "Downloading: 28.7kB [00:00, 4.13MB/s]                   \n"
     ]
    },
    {
     "name": "stdout",
     "output_type": "stream",
     "text": [
      "Downloading and preparing dataset glue/sst2 (download: 7.09 MiB, generated: 4.81 MiB, post-processed: Unknown size, total: 11.90 MiB) to C:\\Users\\Sara\\.cache\\huggingface\\datasets\\glue\\sst2\\1.0.0\\dacbe3125aa31d7f70367a07a8a9e72a5a0bfeb5fc42e75c9db75b96da6053ad...\n"
     ]
    },
    {
     "name": "stderr",
     "output_type": "stream",
     "text": [
      "Downloading: 100%|██████████| 7.44M/7.44M [00:01<00:00, 5.10MB/s]\n"
     ]
    },
    {
     "name": "stdout",
     "output_type": "stream",
     "text": [
      "Dataset glue downloaded and prepared to C:\\Users\\Sara\\.cache\\huggingface\\datasets\\glue\\sst2\\1.0.0\\dacbe3125aa31d7f70367a07a8a9e72a5a0bfeb5fc42e75c9db75b96da6053ad. Subsequent calls will reuse this data.\n"
     ]
    },
    {
     "name": "stderr",
     "output_type": "stream",
     "text": [
      "100%|██████████| 3/3 [00:00<00:00, 49.47it/s]\n"
     ]
    }
   ],
   "source": [
    "from datasets import load_dataset\n",
    "\n",
    "# load the sst2 dataset\n",
    "dataset = load_dataset(\"glue\", \"sst2\")\n",
    "\n",
    "# select the train split\n",
    "train = dataset[\"train\"]"
   ]
  },
  {
   "cell_type": "code",
   "execution_count": 3,
   "metadata": {},
   "outputs": [
    {
     "name": "stdout",
     "output_type": "stream",
     "text": [
      "Examining train set:\n",
      "Dataset({\n",
      "    features: ['sentence', 'label', 'idx'],\n",
      "    num_rows: 67349\n",
      "})\n",
      "{'sentence': Value(dtype='string', id=None), 'label': ClassLabel(num_classes=2, names=['negative', 'positive'], names_file=None, id=None), 'idx': Value(dtype='int32', id=None)}\n",
      "<class 'datasets.features.Features'>\n"
     ]
    }
   ],
   "source": [
    "print(\"Examining train set:\")\n",
    "print(train)\n",
    "print(train.features)"
   ]
  },
  {
   "cell_type": "code",
   "execution_count": 4,
   "metadata": {},
   "outputs": [
    {
     "name": "stdout",
     "output_type": "stream",
     "text": [
      "Information about the dataset:\n",
      "GLUE, the General Language Understanding Evaluation benchmark\n",
      "(https://gluebenchmark.com/) is a collection of resources for training,\n",
      "evaluating, and analyzing natural language understanding systems.\n",
      "\n",
      "\n",
      "Homepage\n",
      "https://datasets.stanford.edu/sentiment/index.html\n"
     ]
    }
   ],
   "source": [
    "print(\"Information about the dataset:\")\n",
    "print(train.info.description)\n",
    "print(\"Homepage\")\n",
    "print(train.info.homepage)"
   ]
  },
  {
   "cell_type": "code",
   "execution_count": 5,
   "metadata": {},
   "outputs": [
    {
     "name": "stdout",
     "output_type": "stream",
     "text": [
      "Examining sentence\n",
      "<class 'list'>\n",
      "<class 'str'>\n"
     ]
    }
   ],
   "source": [
    "print(\"Examining sentence\")\n",
    "print(type(train[\"sentence\"]))\n",
    "print(type(train[\"sentence\"][0]))"
   ]
  },
  {
   "cell_type": "code",
   "execution_count": 6,
   "metadata": {},
   "outputs": [
    {
     "name": "stdout",
     "output_type": "stream",
     "text": [
      "Examining label\n",
      "<class 'list'>\n",
      "<class 'int'>\n",
      "{0, 1}\n"
     ]
    }
   ],
   "source": [
    "print(\"Examining label\")\n",
    "print(type(train[\"label\"]))\n",
    "print(type(train[\"label\"][0]))\n",
    "# set takes all the unique values\n",
    "print(set(train[\"label\"]))"
   ]
  },
  {
   "cell_type": "code",
   "execution_count": 7,
   "metadata": {},
   "outputs": [
    {
     "name": "stdout",
     "output_type": "stream",
     "text": [
      "A few samples:\n",
      "hide new secretions from the parental units  - 0\n",
      "contains no wit , only labored gags  - 0\n",
      "that loves its characters and communicates something rather beautiful about human nature  - 1\n",
      "remains utterly satisfied to remain the same throughout  - 0\n",
      "on the worst revenge-of-the-nerds clichés the filmmakers could dredge up  - 0\n",
      "that 's far too tragic to merit such superficial treatment  - 0\n",
      "demonstrates that the director of such hollywood blockbusters as patriot games can still turn out a small , personal film with an emotional wallop .  - 1\n",
      "of saucy  - 1\n",
      "a depressed fifteen-year-old 's suicidal poetry  - 0\n",
      "are more deeply thought through than in most ` right-thinking ' films  - 1\n"
     ]
    }
   ],
   "source": [
    "print(\"A few samples:\")\n",
    "for t in range(10):\n",
    "    sent = train[\"sentence\"][t]\n",
    "    lab = train[\"label\"][t]\n",
    "    print(sent, \"-\",  lab)"
   ]
  },
  {
   "cell_type": "code",
   "execution_count": null,
   "metadata": {},
   "outputs": [],
   "source": []
  }
 ],
 "metadata": {
  "interpreter": {
   "hash": "94f20621c34d06f296d998be094ddbe636a1cbce433580f5c6b944e0692a01ca"
  },
  "kernelspec": {
   "display_name": "Python 3.9.1 64-bit ('nlp': virtualenv)",
   "name": "python3"
  },
  "language_info": {
   "codemirror_mode": {
    "name": "ipython",
    "version": 3
   },
   "file_extension": ".py",
   "mimetype": "text/x-python",
   "name": "python",
   "nbconvert_exporter": "python",
   "pygments_lexer": "ipython3",
   "version": "3.9.1"
  },
  "orig_nbformat": 4
 },
 "nbformat": 4,
 "nbformat_minor": 2
}
